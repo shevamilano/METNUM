{
 "cells": [
  {
   "cell_type": "code",
   "execution_count": 1,
   "metadata": {},
   "outputs": [
    {
     "name": "stdout",
     "output_type": "stream",
     "text": [
      "Turunan Selisih Maju pada x=1.0 dengan h=0.2: -0.22735977838467952\n",
      "Turunan Selisih Mundur pada x=1.0 dengan h=0.2: -0.3057150504406725\n",
      "Turunan Selisih Pusat pada x=1.0 dengan h=0.2: -0.266537414412676\n"
     ]
    }
   ],
   "source": [
    "# Sheva Haya Milano\n",
    "# 105222036\n",
    "# no.1\n",
    "import numpy as np\n",
    "\n",
    "# fungsi f(x) = sin(0.5 * sqrt(x)) / x\n",
    "def f(x):\n",
    "    return np.sin(0.5 * np.sqrt(x)) / x\n",
    "\n",
    "# selisih maju\n",
    "def selisih_maju(x, h):\n",
    "    return (f(x + h) - f(x)) / h\n",
    "\n",
    "# selisih mundur\n",
    "def selisih_mundur(x, h):\n",
    "    return (f(x) - f(x - h)) / h\n",
    "\n",
    "# selisih pusat\n",
    "def selisih_pusat(x, h):\n",
    "    return (f(x + h) - f(x - h)) / (2 * h)\n",
    "\n",
    "x = 1.0\n",
    "h = 0.2\n",
    "\n",
    "turunan_maju = selisih_maju(x, h)\n",
    "turunan_mundur = selisih_mundur(x, h)\n",
    "turunan_pusat = selisih_pusat(x, h)\n",
    "\n",
    "print(f\"Turunan Selisih Maju pada x={x} dengan h={h}: {turunan_maju}\")\n",
    "print(f\"Turunan Selisih Mundur pada x={x} dengan h={h}: {turunan_mundur}\")\n",
    "print(f\"Turunan Selisih Pusat pada x={x} dengan h={h}: {turunan_pusat}\")\n",
    "\n",
    "\n"
   ]
  },
  {
   "cell_type": "code",
   "execution_count": 1,
   "metadata": {},
   "outputs": [
    {
     "name": "stdout",
     "output_type": "stream",
     "text": [
      "Turunan Kedua Selisih Maju pada x=0.4 dengan h=0.1: 0.5699299462759515\n",
      "Turunan Kedua Selisih Mundur pada x=0.4 dengan h=0.1: 1.46118541115022\n",
      "Turunan Kedua Selisih Pusat pada x=0.4 dengan h=0.1: 1.0636406412974446\n"
     ]
    }
   ],
   "source": [
    "# Sheva Haya Milano\n",
    "# 105222036\n",
    "# no. 2\n",
    "import numpy as np\n",
    "\n",
    "# fungsi f(x) = x^2 * cos(x)\n",
    "def f(x):\n",
    "    return x**2 * np.cos(x)\n",
    "\n",
    "# selisih maju untuk turunan kedua\n",
    "def selisih_maju_kedua(x, h):\n",
    "    return (f(x + 2*h) - 2*f(x + h) + f(x)) / h**2\n",
    "\n",
    "# selisih mundur untuk turunan kedua\n",
    "def selisih_mundur_kedua(x, h):\n",
    "    return (f(x) - 2*f(x - h) + f(x - 2*h)) / h**2\n",
    "\n",
    "# selisih pusat untuk turunan kedua\n",
    "def selisih_pusat_kedua(x, h):\n",
    "    return (f(x + h) - 2*f(x) + f(x - h)) / h**2\n",
    "\n",
    "x = 0.4\n",
    "h = 0.1\n",
    "\n",
    "turunan_kedua_maju = selisih_maju_kedua(x, h)\n",
    "turunan_kedua_mundur = selisih_mundur_kedua(x, h)\n",
    "turunan_kedua_pusat = selisih_pusat_kedua(x, h)\n",
    "\n",
    "print(f\"Turunan Kedua Selisih Maju pada x={x} dengan h={h}: {turunan_kedua_maju}\")\n",
    "print(f\"Turunan Kedua Selisih Mundur pada x={x} dengan h={h}: {turunan_kedua_mundur}\")\n",
    "print(f\"Turunan Kedua Selisih Pusat pada x={x} dengan h={h}: {turunan_kedua_pusat}\")\n"
   ]
  },
  {
   "cell_type": "code",
   "execution_count": 20,
   "metadata": {},
   "outputs": [
    {
     "name": "stdout",
     "output_type": "stream",
     "text": [
      "Waktu (s) : [  0  25  50  75 100 125]\n",
      "Jarak (km): [  0  32  58  78  92 100]\n",
      "Kecepatan (km/s): [1.28 1.16 0.92 0.68 0.44 0.32]\n",
      "Percepatan (km/s^2): [-0.0024 -0.0096 -0.0096 -0.0096 -0.0096 -0.0024]\n"
     ]
    }
   ],
   "source": [
    "# Sheva Haya Milano\n",
    "# 105222036\n",
    "# no.3\n",
    "import numpy as np\n",
    "\n",
    "# data waktu (t) dalam detik\n",
    "t = np.array([0, 25, 50, 75, 100, 125])\n",
    "\n",
    "# data jarak (y) dalam kilometer\n",
    "y = np.array([0, 32, 58, 78, 92, 100])\n",
    "\n",
    "# rumus kecepatan (v) sebagai turunan pertama \n",
    "v = np.zeros(len(t))\n",
    "v[1:-1] = (y[2:] - y[:-2]) / (t[2:] - t[:-2])\n",
    "v[0] = (y[1] - y[0]) / (t[1] - t[0])\n",
    "v[-1] = (y[-1] - y[-2]) / (t[-1] - t[-2])\n",
    "\n",
    "# rumus percepatan (a) sebagai turunan kedua \n",
    "a = np.zeros(len(t))\n",
    "a[1:-1] = (y[:-2] - 2*y[1:-1] + y[2:]) / ((t[2:] - t[1:-1]) * (t[1:-1] - t[:-2]))\n",
    "a[0] = (y[2] - 2*y[1] + y[0]) / (t[2] - t[0])**2\n",
    "a[-1] = (y[-1] - 2*y[-2] + y[-3]) / (t[-1] - t[-3])**2\n",
    "\n",
    "print(\"Waktu (s) :\", t)\n",
    "print(\"Jarak (km):\", y)\n",
    "print(\"Kecepatan (km/s):\", v)\n",
    "print(\"Percepatan (km/s^2):\", a)\n"
   ]
  }
 ],
 "metadata": {
  "kernelspec": {
   "display_name": "Python 3",
   "language": "python",
   "name": "python3"
  },
  "language_info": {
   "codemirror_mode": {
    "name": "ipython",
    "version": 3
   },
   "file_extension": ".py",
   "mimetype": "text/x-python",
   "name": "python",
   "nbconvert_exporter": "python",
   "pygments_lexer": "ipython3",
   "version": "3.11.1"
  }
 },
 "nbformat": 4,
 "nbformat_minor": 2
}
